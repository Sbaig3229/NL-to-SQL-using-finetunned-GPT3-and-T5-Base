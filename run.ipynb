{
  "nbformat": 4,
  "nbformat_minor": 0,
  "metadata": {
    "colab": {
      "provenance": [],
      "collapsed_sections": []
    },
    "kernelspec": {
      "name": "python3",
      "display_name": "Python 3"
    },
    "language_info": {
      "name": "python"
    }
  },
  "cells": [
    {
      "cell_type": "markdown",
      "source": [
        "**Dependencies**"
      ],
      "metadata": {
        "id": "fb-oFZBHRvX_"
      }
    },
    {
      "cell_type": "code",
      "source": [
        "!pip install transformers\n",
        "!pip install sentencepiece\n",
        "!pip install openai"
      ],
      "metadata": {
        "colab": {
          "base_uri": "https://localhost:8080/"
        },
        "id": "FQclTsfBaw9n",
        "outputId": "1484193a-a962-4e40-bfff-07b9bd04b3f7"
      },
      "execution_count": null,
      "outputs": [
        {
          "output_type": "stream",
          "name": "stdout",
          "text": [
            "Looking in indexes: https://pypi.org/simple, https://us-python.pkg.dev/colab-wheels/public/simple/\n",
            "Requirement already satisfied: transformers in /usr/local/lib/python3.7/dist-packages (4.22.2)\n",
            "Requirement already satisfied: requests in /usr/local/lib/python3.7/dist-packages (from transformers) (2.23.0)\n",
            "Requirement already satisfied: filelock in /usr/local/lib/python3.7/dist-packages (from transformers) (3.8.0)\n",
            "Requirement already satisfied: tqdm>=4.27 in /usr/local/lib/python3.7/dist-packages (from transformers) (4.64.1)\n",
            "Requirement already satisfied: pyyaml>=5.1 in /usr/local/lib/python3.7/dist-packages (from transformers) (6.0)\n",
            "Requirement already satisfied: packaging>=20.0 in /usr/local/lib/python3.7/dist-packages (from transformers) (21.3)\n",
            "Requirement already satisfied: regex!=2019.12.17 in /usr/local/lib/python3.7/dist-packages (from transformers) (2022.6.2)\n",
            "Requirement already satisfied: tokenizers!=0.11.3,<0.13,>=0.11.1 in /usr/local/lib/python3.7/dist-packages (from transformers) (0.12.1)\n",
            "Requirement already satisfied: importlib-metadata in /usr/local/lib/python3.7/dist-packages (from transformers) (5.0.0)\n",
            "Requirement already satisfied: huggingface-hub<1.0,>=0.9.0 in /usr/local/lib/python3.7/dist-packages (from transformers) (0.10.0)\n",
            "Requirement already satisfied: numpy>=1.17 in /usr/local/lib/python3.7/dist-packages (from transformers) (1.21.6)\n",
            "Requirement already satisfied: typing-extensions>=3.7.4.3 in /usr/local/lib/python3.7/dist-packages (from huggingface-hub<1.0,>=0.9.0->transformers) (4.1.1)\n",
            "Requirement already satisfied: pyparsing!=3.0.5,>=2.0.2 in /usr/local/lib/python3.7/dist-packages (from packaging>=20.0->transformers) (3.0.9)\n",
            "Requirement already satisfied: zipp>=0.5 in /usr/local/lib/python3.7/dist-packages (from importlib-metadata->transformers) (3.8.1)\n",
            "Requirement already satisfied: urllib3!=1.25.0,!=1.25.1,<1.26,>=1.21.1 in /usr/local/lib/python3.7/dist-packages (from requests->transformers) (1.24.3)\n",
            "Requirement already satisfied: certifi>=2017.4.17 in /usr/local/lib/python3.7/dist-packages (from requests->transformers) (2022.9.24)\n",
            "Requirement already satisfied: chardet<4,>=3.0.2 in /usr/local/lib/python3.7/dist-packages (from requests->transformers) (3.0.4)\n",
            "Requirement already satisfied: idna<3,>=2.5 in /usr/local/lib/python3.7/dist-packages (from requests->transformers) (2.10)\n",
            "Looking in indexes: https://pypi.org/simple, https://us-python.pkg.dev/colab-wheels/public/simple/\n",
            "Requirement already satisfied: sentencepiece in /usr/local/lib/python3.7/dist-packages (0.1.97)\n",
            "Looking in indexes: https://pypi.org/simple, https://us-python.pkg.dev/colab-wheels/public/simple/\n",
            "Requirement already satisfied: openai in /usr/local/lib/python3.7/dist-packages (0.23.1)\n",
            "Requirement already satisfied: requests>=2.20 in /usr/local/lib/python3.7/dist-packages (from openai) (2.23.0)\n",
            "Requirement already satisfied: openpyxl>=3.0.7 in /usr/local/lib/python3.7/dist-packages (from openai) (3.0.10)\n",
            "Requirement already satisfied: tqdm in /usr/local/lib/python3.7/dist-packages (from openai) (4.64.1)\n",
            "Requirement already satisfied: pandas>=1.2.3 in /usr/local/lib/python3.7/dist-packages (from openai) (1.3.5)\n",
            "Requirement already satisfied: pandas-stubs>=1.1.0.11 in /usr/local/lib/python3.7/dist-packages (from openai) (1.2.0.62)\n",
            "Requirement already satisfied: numpy in /usr/local/lib/python3.7/dist-packages (from openai) (1.21.6)\n",
            "Requirement already satisfied: typing-extensions in /usr/local/lib/python3.7/dist-packages (from openai) (4.1.1)\n",
            "Requirement already satisfied: et-xmlfile in /usr/local/lib/python3.7/dist-packages (from openpyxl>=3.0.7->openai) (1.1.0)\n",
            "Requirement already satisfied: pytz>=2017.3 in /usr/local/lib/python3.7/dist-packages (from pandas>=1.2.3->openai) (2022.4)\n",
            "Requirement already satisfied: python-dateutil>=2.7.3 in /usr/local/lib/python3.7/dist-packages (from pandas>=1.2.3->openai) (2.8.2)\n",
            "Requirement already satisfied: six>=1.5 in /usr/local/lib/python3.7/dist-packages (from python-dateutil>=2.7.3->pandas>=1.2.3->openai) (1.15.0)\n",
            "Requirement already satisfied: chardet<4,>=3.0.2 in /usr/local/lib/python3.7/dist-packages (from requests>=2.20->openai) (3.0.4)\n",
            "Requirement already satisfied: certifi>=2017.4.17 in /usr/local/lib/python3.7/dist-packages (from requests>=2.20->openai) (2022.9.24)\n",
            "Requirement already satisfied: idna<3,>=2.5 in /usr/local/lib/python3.7/dist-packages (from requests>=2.20->openai) (2.10)\n",
            "Requirement already satisfied: urllib3!=1.25.0,!=1.25.1,<1.26,>=1.21.1 in /usr/local/lib/python3.7/dist-packages (from requests>=2.20->openai) (1.24.3)\n"
          ]
        }
      ]
    },
    {
      "cell_type": "markdown",
      "source": [
        "**Dependencies**"
      ],
      "metadata": {
        "id": "RuGSWiEM5Eva"
      }
    },
    {
      "cell_type": "code",
      "source": [
        "import pandas as pd\n",
        "from sklearn.feature_extraction.text import TfidfVectorizer\n",
        "from sklearn.metrics.pairwise import linear_kernel\n",
        "import csv\n",
        "from csv import writer\n",
        "from transformers import AutoTokenizer, T5ForConditionalGeneration\n",
        "from sklearn.metrics.pairwise import cosine_similarity\n",
        "import numpy as np\n",
        "import difflib\n",
        "from gpt import GPT\n",
        "from gpt import Example\n",
        "import openai\n",
        "import Column_Schema\n",
        "import json\n",
        "import nltk\n",
        "nltk.download('stopwords')\n",
        "nltk.download('punkt')\n",
        "import warnings \n",
        "warnings.filterwarnings(\"ignore\") "
      ],
      "metadata": {
        "colab": {
          "base_uri": "https://localhost:8080/"
        },
        "id": "wvfgHofOvC7a",
        "outputId": "4fef537b-8555-4c94-8abb-d44e5c55eeaa"
      },
      "execution_count": null,
      "outputs": [
        {
          "output_type": "stream",
          "name": "stderr",
          "text": [
            "[nltk_data] Downloading package stopwords to /root/nltk_data...\n",
            "[nltk_data]   Package stopwords is already up-to-date!\n",
            "[nltk_data] Downloading package punkt to /root/nltk_data...\n",
            "[nltk_data]   Package punkt is already up-to-date!\n"
          ]
        }
      ]
    },
    {
      "cell_type": "markdown",
      "source": [
        "**Using T5 Fine-tuned model on Wiki-SQL**"
      ],
      "metadata": {
        "id": "rwuFjzAmbnCS"
      }
    },
    {
      "cell_type": "code",
      "source": [
        "model_name = \"mrm8488/t5-small-finetuned-wikiSQL\" \n",
        "tokenizer = AutoTokenizer.from_pretrained(model_name)\n",
        "model = T5ForConditionalGeneration.from_pretrained(model_name)"
      ],
      "metadata": {
        "colab": {
          "base_uri": "https://localhost:8080/"
        },
        "id": "IHLxKt00wcdX",
        "outputId": "11ffac5d-f00d-484b-d529-e781a264fc26"
      },
      "execution_count": null,
      "outputs": [
        {
          "output_type": "stream",
          "name": "stderr",
          "text": [
            "The `xla_device` argument has been deprecated in v4.4.0 of Transformers. It is ignored and you can safely remove it from your `config.json` file.\n",
            "The `xla_device` argument has been deprecated in v4.4.0 of Transformers. It is ignored and you can safely remove it from your `config.json` file.\n",
            "The `xla_device` argument has been deprecated in v4.4.0 of Transformers. It is ignored and you can safely remove it from your `config.json` file.\n",
            "The `xla_device` argument has been deprecated in v4.4.0 of Transformers. It is ignored and you can safely remove it from your `config.json` file.\n"
          ]
        }
      ]
    },
    {
      "cell_type": "markdown",
      "source": [
        "**Generating SQL query from T5 Finetuned**"
      ],
      "metadata": {
        "id": "2ekp9NYQbvkE"
      }
    },
    {
      "cell_type": "code",
      "source": [
        "def get_sql(query):\n",
        "  input_text = \"translante English to SQL: %s </s>\" % query\n",
        "  features = tokenizer([input_text], return_tensors='pt')\n",
        "\n",
        "  output = model.generate(input_ids=features['input_ids'], \n",
        "               attention_mask=features['attention_mask'])\n",
        "  return tokenizer.decode(output[0], skip_special_tokens=True)"
      ],
      "metadata": {
        "id": "hV8KmkwFU-5G"
      },
      "execution_count": null,
      "outputs": []
    },
    {
      "cell_type": "code",
      "source": [
        "def Append_csv_set(query, csvfile):\n",
        "  SQL_T5=get_sql(query)\n",
        "  dataframe=[query, SQL_T5]\n",
        "  with open(csvfile, 'a') as f_object:\n",
        "    writer_object = writer(f_object)\n",
        "    writer_object.writerow(dataframe)\n",
        "    f_object.close()"
      ],
      "metadata": {
        "id": "F7lp9H1SO_o5"
      },
      "execution_count": null,
      "outputs": []
    },
    {
      "cell_type": "markdown",
      "source": [
        "**Fine Tune GPT3**"
      ],
      "metadata": {
        "id": "A3csHrbIXny-"
      }
    },
    {
      "cell_type": "markdown",
      "source": [
        "**For generating .jsonl file for finetunning**\n",
        "Note:do not run until retuning the model\n",
        "\n"
      ],
      "metadata": {
        "id": "vrIBwbtEiguz"
      }
    },
    {
      "cell_type": "code",
      "source": [
        "#!yes | openai tools fine_tunes.prepare_data -f 'Fine_tune_dataset.csv'"
      ],
      "metadata": {
        "id": "8JEZgxO0id1m"
      },
      "execution_count": null,
      "outputs": []
    },
    {
      "cell_type": "markdown",
      "source": [
        "**Opening Training file** \n",
        "Note:do not run until retuning the model"
      ],
      "metadata": {
        "id": "L5Q_a4kPctD_"
      }
    },
    {
      "cell_type": "code",
      "source": [
        "with open(\"Data_Sample_prepared.jsonl\") as f:\n",
        "      response = openai.File.create(file=f, purpose='fine-tune')\n",
        "print(response)"
      ],
      "metadata": {
        "colab": {
          "base_uri": "https://localhost:8080/"
        },
        "id": "fnjyafD0jk64",
        "outputId": "c32f99b4-b550-4fb9-c550-9918c0742534"
      },
      "execution_count": null,
      "outputs": [
        {
          "output_type": "stream",
          "name": "stdout",
          "text": [
            "{\n",
            "  \"bytes\": 153363,\n",
            "  \"created_at\": 1665216795,\n",
            "  \"filename\": \"file\",\n",
            "  \"id\": \"file-nhpa60zOsePlZAZHuTIT2bqF\",\n",
            "  \"object\": \"file\",\n",
            "  \"purpose\": \"fine-tune\",\n",
            "  \"status\": \"uploaded\",\n",
            "  \"status_details\": null\n",
            "}\n"
          ]
        }
      ]
    },
    {
      "cell_type": "markdown",
      "source": [
        "**Creating Finetune Instances**\n",
        "Note:do not run until retuning the model"
      ],
      "metadata": {
        "id": "ZJ5M55v3czk2"
      }
    },
    {
      "cell_type": "code",
      "source": [
        "response = openai.FineTune.create(training_file=\"file-nhpa60zOsePlZAZHuTIT2bqF\", model='ada')\n",
        "print(response)"
      ],
      "metadata": {
        "colab": {
          "base_uri": "https://localhost:8080/"
        },
        "id": "HY-09A-Lj_-2",
        "outputId": "ee2de5c9-a96b-41d2-c78e-8de7e9b43a6f"
      },
      "execution_count": null,
      "outputs": [
        {
          "output_type": "stream",
          "name": "stdout",
          "text": [
            "{\n",
            "  \"created_at\": 1665217306,\n",
            "  \"events\": [\n",
            "    {\n",
            "      \"created_at\": 1665217306,\n",
            "      \"level\": \"info\",\n",
            "      \"message\": \"Created fine-tune: ft-5WYz8JMe8s5nmR2f6KwhDIso\",\n",
            "      \"object\": \"fine-tune-event\"\n",
            "    }\n",
            "  ],\n",
            "  \"fine_tuned_model\": null,\n",
            "  \"hyperparams\": {\n",
            "    \"batch_size\": null,\n",
            "    \"learning_rate_multiplier\": null,\n",
            "    \"n_epochs\": 4,\n",
            "    \"prompt_loss_weight\": 0.01\n",
            "  },\n",
            "  \"id\": \"ft-5WYz8JMe8s5nmR2f6KwhDIso\",\n",
            "  \"model\": \"ada\",\n",
            "  \"object\": \"fine-tune\",\n",
            "  \"organization_id\": \"org-RfTVRwQZuDLbPS2BYvPjPffU\",\n",
            "  \"result_files\": [],\n",
            "  \"status\": \"pending\",\n",
            "  \"training_files\": [\n",
            "    {\n",
            "      \"bytes\": 153363,\n",
            "      \"created_at\": 1665216795,\n",
            "      \"filename\": \"file\",\n",
            "      \"id\": \"file-nhpa60zOsePlZAZHuTIT2bqF\",\n",
            "      \"object\": \"file\",\n",
            "      \"purpose\": \"fine-tune\",\n",
            "      \"status\": \"processed\",\n",
            "      \"status_details\": null\n",
            "    }\n",
            "  ],\n",
            "  \"updated_at\": 1665217306,\n",
            "  \"validation_files\": []\n",
            "}\n"
          ]
        }
      ]
    },
    {
      "cell_type": "markdown",
      "source": [
        "**Retrieving FineTune Information** Note:do not run until retuning the model"
      ],
      "metadata": {
        "id": "CeaAdn97c3ku"
      }
    },
    {
      "cell_type": "code",
      "source": [
        "response = openai.FineTune.retrieve(id=\"id\")\n",
        "print(response)"
      ],
      "metadata": {
        "colab": {
          "base_uri": "https://localhost:8080/"
        },
        "id": "MRiY5UGTkYA1",
        "outputId": "42220ce3-efd1-47ec-85f5-95da191a3f04"
      },
      "execution_count": null,
      "outputs": [
        {
          "output_type": "stream",
          "name": "stdout",
          "text": [
            "{\n",
            "  \"created_at\": 1665216838,\n",
            "  \"events\": [\n",
            "    {\n",
            "      \"created_at\": 1665216838,\n",
            "      \"level\": \"info\",\n",
            "      \"message\": \"Created fine-tune: ft-QLRPwoN2jB3iyOssoYwOoOaF\",\n",
            "      \"object\": \"fine-tune-event\"\n",
            "    }\n",
            "  ],\n",
            "  \"fine_tuned_model\": null,\n",
            "  \"hyperparams\": {\n",
            "    \"batch_size\": null,\n",
            "    \"learning_rate_multiplier\": null,\n",
            "    \"n_epochs\": 4,\n",
            "    \"prompt_loss_weight\": 0.01\n",
            "  },\n",
            "  \"id\": \"ft-QLRPwoN2jB3iyOssoYwOoOaF\",\n",
            "  \"model\": \"ada\",\n",
            "  \"object\": \"fine-tune\",\n",
            "  \"organization_id\": \"org-RfTVRwQZuDLbPS2BYvPjPffU\",\n",
            "  \"result_files\": [],\n",
            "  \"status\": \"pending\",\n",
            "  \"training_files\": [\n",
            "    {\n",
            "      \"bytes\": 153363,\n",
            "      \"created_at\": 1665216795,\n",
            "      \"filename\": \"file\",\n",
            "      \"id\": \"file-nhpa60zOsePlZAZHuTIT2bqF\",\n",
            "      \"object\": \"file\",\n",
            "      \"purpose\": \"fine-tune\",\n",
            "      \"status\": \"processed\",\n",
            "      \"status_details\": null\n",
            "    }\n",
            "  ],\n",
            "  \"updated_at\": 1665216838,\n",
            "  \"validation_files\": []\n",
            "}\n"
          ]
        }
      ]
    },
    {
      "cell_type": "markdown",
      "source": [
        "**Getting Fineout outputs**"
      ],
      "metadata": {
        "id": "NwvrvbrVc-Y-"
      }
    },
    {
      "cell_type": "code",
      "source": [
        "def gpt3_classifier(item, fine_tuned_model, is_log=False):\n",
        "    \n",
        "  result = openai.Completion.create(model=fine_tuned_model, \n",
        "                                    prompt=(item))['choices'][0]['text'] \n",
        "\n",
        "  result = result.split('\\n')\n",
        "  result=result[0]\n",
        "\n",
        "  return result"
      ],
      "metadata": {
        "id": "wNaubsjJmB-1"
      },
      "execution_count": null,
      "outputs": []
    },
    {
      "cell_type": "markdown",
      "source": [
        "**Main function**"
      ],
      "metadata": {
        "id": "ZlXwnhYslCOL"
      }
    },
    {
      "cell_type": "code",
      "source": [
        "def main(query):\n",
        "  Append_csv_set(query,'Data_Sample.csv')\n",
        "  result=gpt3_classifier(query + ' -->', 'ada:ft-student-2022-10-08-09-13-01')\n",
        "  return result"
      ],
      "metadata": {
        "id": "cFb3S4W8i6mO"
      },
      "execution_count": null,
      "outputs": []
    },
    {
      "cell_type": "markdown",
      "source": [
        "**Query Input**"
      ],
      "metadata": {
        "id": "65Tvnr09FjZ-"
      }
    },
    {
      "cell_type": "code",
      "source": [
        "query='What is the value of LEI_Code where Amount is 1000'\n",
        "query, res1=Column_Schema.column_name_pred(query,'/content/data_test.csv')"
      ],
      "metadata": {
        "id": "f165v11_YZfq"
      },
      "execution_count": null,
      "outputs": []
    },
    {
      "cell_type": "markdown",
      "source": [
        "**Output**"
      ],
      "metadata": {
        "id": "XFEny39Qd195"
      }
    },
    {
      "cell_type": "code",
      "source": [
        "%env OPENAI_API_KEY = yourkey"
      ],
      "metadata": {
        "colab": {
          "base_uri": "https://localhost:8080/"
        },
        "id": "NJq8I7dYB9q_",
        "outputId": "e0d81aa9-aecd-4abe-dd29-dc090fef70f7"
      },
      "execution_count": 1,
      "outputs": [
        {
          "output_type": "stream",
          "name": "stdout",
          "text": [
            "env: OPENAI_API_KEY=yourkey\n"
          ]
        }
      ]
    },
    {
      "cell_type": "code",
      "source": [
        "SQL_response=main(query)\n",
        "SQL_response, res2=Column_Schema.column_name_pred(SQL_response,'/content/data_test.csv')"
      ],
      "metadata": {
        "id": "GV5OVIhJWTGe"
      },
      "execution_count": null,
      "outputs": []
    },
    {
      "cell_type": "code",
      "source": [
        "SQL_response"
      ],
      "metadata": {
        "colab": {
          "base_uri": "https://localhost:8080/",
          "height": 35
        },
        "id": "TTG-wT48801J",
        "outputId": "f4b96623-f4df-4574-f54e-dc171eca6bb9"
      },
      "execution_count": null,
      "outputs": [
        {
          "output_type": "execute_result",
          "data": {
            "text/plain": [
              "'select LEI_Code from table where amount = 1000'"
            ],
            "application/vnd.google.colaboratory.intrinsic+json": {
              "type": "string"
            }
          },
          "metadata": {},
          "execution_count": 13
        }
      ]
    }
  ]
}